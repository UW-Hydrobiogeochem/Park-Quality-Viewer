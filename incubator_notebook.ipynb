{
 "cells": [
  {
   "cell_type": "markdown",
   "id": "9b271a28",
   "metadata": {},
   "source": [
    " # Import and Inspect Data"
   ]
  },
  {
   "cell_type": "code",
   "execution_count": 47,
   "id": "a46f9f97",
   "metadata": {},
   "outputs": [],
   "source": [
    "import geopandas as gpd\n",
    "import fiona"
   ]
  },
  {
   "cell_type": "code",
   "execution_count": 51,
   "id": "e97d3f8c",
   "metadata": {},
   "outputs": [
    {
     "data": {
      "text/html": [
       "<div>\n",
       "<style scoped>\n",
       "    .dataframe tbody tr th:only-of-type {\n",
       "        vertical-align: middle;\n",
       "    }\n",
       "\n",
       "    .dataframe tbody tr th {\n",
       "        vertical-align: top;\n",
       "    }\n",
       "\n",
       "    .dataframe thead th {\n",
       "        text-align: right;\n",
       "    }\n",
       "</style>\n",
       "<table border=\"1\" class=\"dataframe\">\n",
       "  <thead>\n",
       "    <tr style=\"text-align: right;\">\n",
       "      <th></th>\n",
       "      <th>OBJECTID</th>\n",
       "      <th>KC_FAC_FID</th>\n",
       "      <th>KCPARKFID</th>\n",
       "      <th>SITENAME</th>\n",
       "      <th>SITETYPE</th>\n",
       "      <th>OWNER</th>\n",
       "      <th>OWNERTYPE</th>\n",
       "      <th>MANAGER</th>\n",
       "      <th>MANAGETYPE</th>\n",
       "      <th>MAINTD_BY</th>\n",
       "      <th>MAINTTYPE</th>\n",
       "      <th>SHAPE_Length</th>\n",
       "      <th>SHAPE_Area</th>\n",
       "      <th>geometry</th>\n",
       "    </tr>\n",
       "  </thead>\n",
       "  <tbody>\n",
       "    <tr>\n",
       "      <th>0</th>\n",
       "      <td>1</td>\n",
       "      <td>7098</td>\n",
       "      <td>4250803</td>\n",
       "      <td>Beck Place</td>\n",
       "      <td>Park Site</td>\n",
       "      <td>City of Seattle</td>\n",
       "      <td>City</td>\n",
       "      <td>City of Seattle</td>\n",
       "      <td>City</td>\n",
       "      <td>City of Seattle</td>\n",
       "      <td>City</td>\n",
       "      <td>375.975174</td>\n",
       "      <td>6289.708880</td>\n",
       "      <td>POLYGON ((-122.31190 47.67206, -122.31191 47.6...</td>\n",
       "    </tr>\n",
       "    <tr>\n",
       "      <th>1</th>\n",
       "      <td>2</td>\n",
       "      <td>2441</td>\n",
       "      <td>4210801</td>\n",
       "      <td>Mirror Lake Park</td>\n",
       "      <td>Park Site</td>\n",
       "      <td>City of Federal Way</td>\n",
       "      <td>City</td>\n",
       "      <td>City of Federal Way</td>\n",
       "      <td>City</td>\n",
       "      <td>City of Federal Way</td>\n",
       "      <td>City</td>\n",
       "      <td>1652.556485</td>\n",
       "      <td>148368.730880</td>\n",
       "      <td>POLYGON ((-122.32239 47.32014, -122.32269 47.3...</td>\n",
       "    </tr>\n",
       "    <tr>\n",
       "      <th>2</th>\n",
       "      <td>3</td>\n",
       "      <td>8140</td>\n",
       "      <td>5240402</td>\n",
       "      <td>Woodridge Water Tower Park</td>\n",
       "      <td>Park Site</td>\n",
       "      <td>City of Bellevue</td>\n",
       "      <td>City</td>\n",
       "      <td>City of Bellevue</td>\n",
       "      <td>City</td>\n",
       "      <td>City of Bellevue</td>\n",
       "      <td>City</td>\n",
       "      <td>975.371933</td>\n",
       "      <td>61901.873238</td>\n",
       "      <td>POLYGON ((-122.17426 47.59293, -122.17424 47.5...</td>\n",
       "    </tr>\n",
       "    <tr>\n",
       "      <th>3</th>\n",
       "      <td>4</td>\n",
       "      <td>2300</td>\n",
       "      <td>4260201</td>\n",
       "      <td>Linwood Park</td>\n",
       "      <td>Park Site</td>\n",
       "      <td>City of Kenmore</td>\n",
       "      <td>City</td>\n",
       "      <td>City of Kenmore</td>\n",
       "      <td>City</td>\n",
       "      <td>City of Kenmore</td>\n",
       "      <td>City</td>\n",
       "      <td>1399.701969</td>\n",
       "      <td>59865.148817</td>\n",
       "      <td>POLYGON ((-122.26859 47.76844, -122.26899 47.7...</td>\n",
       "    </tr>\n",
       "    <tr>\n",
       "      <th>4</th>\n",
       "      <td>5</td>\n",
       "      <td>2643</td>\n",
       "      <td>5242701</td>\n",
       "      <td>China Creek Park</td>\n",
       "      <td>Park Site</td>\n",
       "      <td>City of Newcastle</td>\n",
       "      <td>City</td>\n",
       "      <td>City of Newcastle</td>\n",
       "      <td>City</td>\n",
       "      <td>City of Newcastle</td>\n",
       "      <td>City</td>\n",
       "      <td>2808.017874</td>\n",
       "      <td>240589.476195</td>\n",
       "      <td>POLYGON ((-122.14991 47.52994, -122.14992 47.5...</td>\n",
       "    </tr>\n",
       "  </tbody>\n",
       "</table>\n",
       "</div>"
      ],
      "text/plain": [
       "   OBJECTID  KC_FAC_FID  KCPARKFID                    SITENAME   SITETYPE  \\\n",
       "0         1        7098    4250803                  Beck Place  Park Site   \n",
       "1         2        2441    4210801            Mirror Lake Park  Park Site   \n",
       "2         3        8140    5240402  Woodridge Water Tower Park  Park Site   \n",
       "3         4        2300    4260201                Linwood Park  Park Site   \n",
       "4         5        2643    5242701            China Creek Park  Park Site   \n",
       "\n",
       "                 OWNER OWNERTYPE              MANAGER MANAGETYPE  \\\n",
       "0      City of Seattle      City      City of Seattle       City   \n",
       "1  City of Federal Way      City  City of Federal Way       City   \n",
       "2     City of Bellevue      City     City of Bellevue       City   \n",
       "3      City of Kenmore      City      City of Kenmore       City   \n",
       "4    City of Newcastle      City    City of Newcastle       City   \n",
       "\n",
       "             MAINTD_BY MAINTTYPE  SHAPE_Length     SHAPE_Area  \\\n",
       "0      City of Seattle      City    375.975174    6289.708880   \n",
       "1  City of Federal Way      City   1652.556485  148368.730880   \n",
       "2     City of Bellevue      City    975.371933   61901.873238   \n",
       "3      City of Kenmore      City   1399.701969   59865.148817   \n",
       "4    City of Newcastle      City   2808.017874  240589.476195   \n",
       "\n",
       "                                            geometry  \n",
       "0  POLYGON ((-122.31190 47.67206, -122.31191 47.6...  \n",
       "1  POLYGON ((-122.32239 47.32014, -122.32269 47.3...  \n",
       "2  POLYGON ((-122.17426 47.59293, -122.17424 47.5...  \n",
       "3  POLYGON ((-122.26859 47.76844, -122.26899 47.7...  \n",
       "4  POLYGON ((-122.14991 47.52994, -122.14992 47.5...  "
      ]
     },
     "execution_count": 51,
     "metadata": {},
     "output_type": "execute_result"
    }
   ],
   "source": [
    "# King County Park Data\n",
    "parks = gpd.read_file(\"Data/Parks_in_King_County___park_area.geojson\")\n",
    "parks.head()"
   ]
  },
  {
   "cell_type": "code",
   "execution_count": 52,
   "id": "dff312c3",
   "metadata": {},
   "outputs": [
    {
     "data": {
      "text/html": [
       "<div>\n",
       "<style scoped>\n",
       "    .dataframe tbody tr th:only-of-type {\n",
       "        vertical-align: middle;\n",
       "    }\n",
       "\n",
       "    .dataframe tbody tr th {\n",
       "        vertical-align: top;\n",
       "    }\n",
       "\n",
       "    .dataframe thead th {\n",
       "        text-align: right;\n",
       "    }\n",
       "</style>\n",
       "<table border=\"1\" class=\"dataframe\">\n",
       "  <thead>\n",
       "    <tr style=\"text-align: right;\">\n",
       "      <th></th>\n",
       "      <th>geometry</th>\n",
       "    </tr>\n",
       "  </thead>\n",
       "  <tbody>\n",
       "    <tr>\n",
       "      <th>0</th>\n",
       "      <td>POLYGON ((-122.06591 47.83390, -122.51716 47.6...</td>\n",
       "    </tr>\n",
       "  </tbody>\n",
       "</table>\n",
       "</div>"
      ],
      "text/plain": [
       "                                            geometry\n",
       "0  POLYGON ((-122.06591 47.83390, -122.51716 47.6..."
      ]
     },
     "execution_count": 52,
     "metadata": {},
     "output_type": "execute_result"
    }
   ],
   "source": [
    "# boundary for masparks\n",
    "aoi = gpd.read_file(\"Data/aoi.geojson\")\n",
    "aoi.head()"
   ]
  },
  {
   "cell_type": "code",
   "execution_count": 53,
   "id": "c1698da1",
   "metadata": {},
   "outputs": [
    {
     "data": {
      "text/plain": [
       "['WQ_ENV_WQAssessmentCurrent_WQAssessmentCurrent_305b',\n",
       " 'WQ_ENV_WQAssessmentCurrent_WQAssessmentCurrent_303d',\n",
       " 'WQ_ENV_WQAssessmentCurrent_WQACurrent303d',\n",
       " 'WQ_ENV_WQAssessmentCurrent_WQACurrent305b']"
      ]
     },
     "execution_count": 53,
     "metadata": {},
     "output_type": "execute_result"
    }
   ],
   "source": [
    "#  importing gbd data from WA State on water quality\n",
    "fiona.listlayers(\"data/WQ_ENV_WQAssessmentCurrent.gdb\")"
   ]
  },
  {
   "cell_type": "code",
   "execution_count": 54,
   "id": "94425d6d",
   "metadata": {},
   "outputs": [
    {
     "data": {
      "text/html": [
       "<div>\n",
       "<style scoped>\n",
       "    .dataframe tbody tr th:only-of-type {\n",
       "        vertical-align: middle;\n",
       "    }\n",
       "\n",
       "    .dataframe tbody tr th {\n",
       "        vertical-align: top;\n",
       "    }\n",
       "\n",
       "    .dataframe thead th {\n",
       "        text-align: right;\n",
       "    }\n",
       "</style>\n",
       "<table border=\"1\" class=\"dataframe\">\n",
       "  <thead>\n",
       "    <tr style=\"text-align: right;\">\n",
       "      <th></th>\n",
       "      <th>ListingNumber</th>\n",
       "      <th>CategoryCode</th>\n",
       "      <th>ParameterName</th>\n",
       "      <th>MediumName</th>\n",
       "      <th>ListingWaterbodyName</th>\n",
       "      <th>AssessmentUnitNumber</th>\n",
       "      <th>EnvironmentTypeCode</th>\n",
       "      <th>AssessmentUnitTypeCode</th>\n",
       "      <th>NHDReachCode</th>\n",
       "      <th>NHDFromMeasurePercent</th>\n",
       "      <th>NHDToMeasurePercent</th>\n",
       "      <th>GridCellNumber</th>\n",
       "      <th>UnmappableCode</th>\n",
       "      <th>Shape_Length</th>\n",
       "      <th>Shape_Area</th>\n",
       "      <th>geometry</th>\n",
       "    </tr>\n",
       "  </thead>\n",
       "  <tbody>\n",
       "    <tr>\n",
       "      <th>0</th>\n",
       "      <td>66746</td>\n",
       "      <td>5</td>\n",
       "      <td>Dissolved Oxygen</td>\n",
       "      <td>Water</td>\n",
       "      <td>COLUMBIA RIVER (FRANKLIN D. ROOSEVELT LAKE)</td>\n",
       "      <td>170200011202_01_01</td>\n",
       "      <td>Freshwater</td>\n",
       "      <td>Large River</td>\n",
       "      <td>None</td>\n",
       "      <td>NaN</td>\n",
       "      <td>NaN</td>\n",
       "      <td>None</td>\n",
       "      <td>None</td>\n",
       "      <td>68935.153361</td>\n",
       "      <td>2.309884e+07</td>\n",
       "      <td>MULTIPOLYGON (((2329871.876 1350388.059, 23298...</td>\n",
       "    </tr>\n",
       "    <tr>\n",
       "      <th>1</th>\n",
       "      <td>11253</td>\n",
       "      <td>5</td>\n",
       "      <td>Temperature</td>\n",
       "      <td>Water</td>\n",
       "      <td>COLUMBIA RIVER (RUFUS WOODS LAKE)</td>\n",
       "      <td>170200050203_01_01</td>\n",
       "      <td>Freshwater</td>\n",
       "      <td>Large River</td>\n",
       "      <td>None</td>\n",
       "      <td>NaN</td>\n",
       "      <td>NaN</td>\n",
       "      <td>None</td>\n",
       "      <td>None</td>\n",
       "      <td>82014.151994</td>\n",
       "      <td>2.890426e+07</td>\n",
       "      <td>MULTIPOLYGON (((2014376.815 989383.467, 201448...</td>\n",
       "    </tr>\n",
       "    <tr>\n",
       "      <th>2</th>\n",
       "      <td>42784</td>\n",
       "      <td>5</td>\n",
       "      <td>Dissolved Oxygen</td>\n",
       "      <td>Water</td>\n",
       "      <td>COLUMBIA RIVER (RUFUS WOODS LAKE)</td>\n",
       "      <td>170200050203_01_01</td>\n",
       "      <td>Freshwater</td>\n",
       "      <td>Large River</td>\n",
       "      <td>None</td>\n",
       "      <td>NaN</td>\n",
       "      <td>NaN</td>\n",
       "      <td>None</td>\n",
       "      <td>None</td>\n",
       "      <td>82014.151994</td>\n",
       "      <td>2.890426e+07</td>\n",
       "      <td>MULTIPOLYGON (((2014376.815 989383.467, 201448...</td>\n",
       "    </tr>\n",
       "    <tr>\n",
       "      <th>3</th>\n",
       "      <td>66749</td>\n",
       "      <td>5</td>\n",
       "      <td>Temperature</td>\n",
       "      <td>Water</td>\n",
       "      <td>COLUMBIA RIVER (RUFUS WOODS LAKE)</td>\n",
       "      <td>170200050404_01_01</td>\n",
       "      <td>Freshwater</td>\n",
       "      <td>Large River</td>\n",
       "      <td>None</td>\n",
       "      <td>NaN</td>\n",
       "      <td>NaN</td>\n",
       "      <td>None</td>\n",
       "      <td>None</td>\n",
       "      <td>128281.064431</td>\n",
       "      <td>1.000928e+08</td>\n",
       "      <td>MULTIPOLYGON (((1885764.959 1004898.943, 18858...</td>\n",
       "    </tr>\n",
       "    <tr>\n",
       "      <th>4</th>\n",
       "      <td>6310</td>\n",
       "      <td>5</td>\n",
       "      <td>Temperature</td>\n",
       "      <td>Water</td>\n",
       "      <td>COLUMBIA RIVER (LAKE PATEROS)</td>\n",
       "      <td>170200050405_01_01</td>\n",
       "      <td>Freshwater</td>\n",
       "      <td>Large River</td>\n",
       "      <td>None</td>\n",
       "      <td>NaN</td>\n",
       "      <td>NaN</td>\n",
       "      <td>None</td>\n",
       "      <td>None</td>\n",
       "      <td>194863.663856</td>\n",
       "      <td>1.269237e+08</td>\n",
       "      <td>MULTIPOLYGON (((1830876.837 1007031.725, 18311...</td>\n",
       "    </tr>\n",
       "  </tbody>\n",
       "</table>\n",
       "</div>"
      ],
      "text/plain": [
       "   ListingNumber CategoryCode     ParameterName MediumName  \\\n",
       "0          66746            5  Dissolved Oxygen      Water   \n",
       "1          11253            5       Temperature      Water   \n",
       "2          42784            5  Dissolved Oxygen      Water   \n",
       "3          66749            5       Temperature      Water   \n",
       "4           6310            5       Temperature      Water   \n",
       "\n",
       "                          ListingWaterbodyName AssessmentUnitNumber  \\\n",
       "0  COLUMBIA RIVER (FRANKLIN D. ROOSEVELT LAKE)   170200011202_01_01   \n",
       "1            COLUMBIA RIVER (RUFUS WOODS LAKE)   170200050203_01_01   \n",
       "2            COLUMBIA RIVER (RUFUS WOODS LAKE)   170200050203_01_01   \n",
       "3            COLUMBIA RIVER (RUFUS WOODS LAKE)   170200050404_01_01   \n",
       "4                COLUMBIA RIVER (LAKE PATEROS)   170200050405_01_01   \n",
       "\n",
       "  EnvironmentTypeCode AssessmentUnitTypeCode NHDReachCode  \\\n",
       "0          Freshwater            Large River         None   \n",
       "1          Freshwater            Large River         None   \n",
       "2          Freshwater            Large River         None   \n",
       "3          Freshwater            Large River         None   \n",
       "4          Freshwater            Large River         None   \n",
       "\n",
       "   NHDFromMeasurePercent  NHDToMeasurePercent GridCellNumber UnmappableCode  \\\n",
       "0                    NaN                  NaN           None           None   \n",
       "1                    NaN                  NaN           None           None   \n",
       "2                    NaN                  NaN           None           None   \n",
       "3                    NaN                  NaN           None           None   \n",
       "4                    NaN                  NaN           None           None   \n",
       "\n",
       "    Shape_Length    Shape_Area  \\\n",
       "0   68935.153361  2.309884e+07   \n",
       "1   82014.151994  2.890426e+07   \n",
       "2   82014.151994  2.890426e+07   \n",
       "3  128281.064431  1.000928e+08   \n",
       "4  194863.663856  1.269237e+08   \n",
       "\n",
       "                                            geometry  \n",
       "0  MULTIPOLYGON (((2329871.876 1350388.059, 23298...  \n",
       "1  MULTIPOLYGON (((2014376.815 989383.467, 201448...  \n",
       "2  MULTIPOLYGON (((2014376.815 989383.467, 201448...  \n",
       "3  MULTIPOLYGON (((1885764.959 1004898.943, 18858...  \n",
       "4  MULTIPOLYGON (((1830876.837 1007031.725, 18311...  "
      ]
     },
     "execution_count": 54,
     "metadata": {},
     "output_type": "execute_result"
    }
   ],
   "source": [
    "water303 = gpd.read_file(\"data/WQ_ENV_WQAssessmentCurrent.gdb\",driver='FileGDB',layer=2)\n",
    "water303.head()"
   ]
  },
  {
   "cell_type": "markdown",
   "id": "4c4b45de",
   "metadata": {},
   "source": [
    "# Projections of data"
   ]
  },
  {
   "cell_type": "code",
   "execution_count": 56,
   "id": "9a14a9c2",
   "metadata": {},
   "outputs": [
    {
     "data": {
      "text/plain": [
       "<Geographic 2D CRS: EPSG:4326>\n",
       "Name: WGS 84\n",
       "Axis Info [ellipsoidal]:\n",
       "- Lat[north]: Geodetic latitude (degree)\n",
       "- Lon[east]: Geodetic longitude (degree)\n",
       "Area of Use:\n",
       "- name: World.\n",
       "- bounds: (-180.0, -90.0, 180.0, 90.0)\n",
       "Datum: World Geodetic System 1984 ensemble\n",
       "- Ellipsoid: WGS 84\n",
       "- Prime Meridian: Greenwich"
      ]
     },
     "execution_count": 56,
     "metadata": {},
     "output_type": "execute_result"
    }
   ],
   "source": [
    "parks.crs"
   ]
  },
  {
   "cell_type": "code",
   "execution_count": 57,
   "id": "5280d1ba",
   "metadata": {},
   "outputs": [
    {
     "data": {
      "text/plain": [
       "<Geographic 2D CRS: EPSG:4326>\n",
       "Name: WGS 84\n",
       "Axis Info [ellipsoidal]:\n",
       "- Lat[north]: Geodetic latitude (degree)\n",
       "- Lon[east]: Geodetic longitude (degree)\n",
       "Area of Use:\n",
       "- name: World.\n",
       "- bounds: (-180.0, -90.0, 180.0, 90.0)\n",
       "Datum: World Geodetic System 1984 ensemble\n",
       "- Ellipsoid: WGS 84\n",
       "- Prime Meridian: Greenwich"
      ]
     },
     "execution_count": 57,
     "metadata": {},
     "output_type": "execute_result"
    }
   ],
   "source": [
    "aoi.crs"
   ]
  },
  {
   "cell_type": "code",
   "execution_count": 58,
   "id": "b55ff1b7",
   "metadata": {},
   "outputs": [
    {
     "data": {
      "text/plain": [
       "<Derived Projected CRS: EPSG:2927>\n",
       "Name: NAD83(HARN) / Washington South (ftUS)\n",
       "Axis Info [cartesian]:\n",
       "- X[east]: Easting (US survey foot)\n",
       "- Y[north]: Northing (US survey foot)\n",
       "Area of Use:\n",
       "- name: United States (USA) - Washington - counties of Adams; Asotin; Benton; Clark; Columbia; Cowlitz; Franklin; Garfield; Grant south of approximately 47°30'N; Grays Harbor; Kittitas; Klickitat; Lewis; Mason; Pacific; Pierce; Skamania; Thurston; Wahkiakum; Walla Walla; Whitman; Yakima.\n",
       "- bounds: (-124.4, 45.54, -116.91, 47.61)\n",
       "Coordinate Operation:\n",
       "- name: SPCS83 Washington South zone (US Survey feet)\n",
       "- method: Lambert Conic Conformal (2SP)\n",
       "Datum: NAD83 (High Accuracy Reference Network)\n",
       "- Ellipsoid: GRS 1980\n",
       "- Prime Meridian: Greenwich"
      ]
     },
     "execution_count": 58,
     "metadata": {},
     "output_type": "execute_result"
    }
   ],
   "source": [
    "water303.crs"
   ]
  },
  {
   "cell_type": "code",
   "execution_count": 64,
   "id": "c80ef5f3",
   "metadata": {},
   "outputs": [
    {
     "data": {
      "text/plain": [
       "<Geographic 2D CRS: EPSG:4326>\n",
       "Name: WGS 84\n",
       "Axis Info [ellipsoidal]:\n",
       "- Lat[north]: Geodetic latitude (degree)\n",
       "- Lon[east]: Geodetic longitude (degree)\n",
       "Area of Use:\n",
       "- name: World.\n",
       "- bounds: (-180.0, -90.0, 180.0, 90.0)\n",
       "Datum: World Geodetic System 1984 ensemble\n",
       "- Ellipsoid: WGS 84\n",
       "- Prime Meridian: Greenwich"
      ]
     },
     "execution_count": 64,
     "metadata": {},
     "output_type": "execute_result"
    }
   ],
   "source": [
    "# convert water data to same crs as parks county park and aoi\n",
    "water303 = water303.to_crs(4326)\n",
    "water303.crs"
   ]
  },
  {
   "cell_type": "markdown",
   "id": "63e702c7",
   "metadata": {},
   "source": [
    "# clip data"
   ]
  },
  {
   "cell_type": "code",
   "execution_count": 62,
   "id": "156d0bed",
   "metadata": {},
   "outputs": [],
   "source": [
    "# clip king county park data with aoi\n",
    "parks_clip = parks.clip(aoi)"
   ]
  },
  {
   "cell_type": "code",
   "execution_count": 66,
   "id": "91031d26",
   "metadata": {},
   "outputs": [],
   "source": [
    "# clip water data with aoi\n",
    "water303_clip = water303.clip(aoi)"
   ]
  },
  {
   "cell_type": "code",
   "execution_count": 67,
   "id": "84652bcd",
   "metadata": {},
   "outputs": [
    {
     "data": {
      "text/plain": [
       "<AxesSubplot:>"
      ]
     },
     "execution_count": 67,
     "metadata": {},
     "output_type": "execute_result"
    },
    {
     "data": {
      "image/png": "[encoded data removed]",
      "text/plain": [
       "<Figure size 432x288 with 1 Axes>"
      ]
     },
     "metadata": {
      "needs_background": "light"
     },
     "output_type": "display_data"
    }
   ],
   "source": [
    "base = parks_clip.plot(color=\"green\")\n",
    "water303_clip.plot(ax=base,color=\"blue\")\n",
    "aoi.boundary.plot(ax=base,color=\"black\")"
   ]
  },
  {
   "cell_type": "code",
   "execution_count": null,
   "id": "022290d1",
   "metadata": {},
   "outputs": [],
   "source": []
  }
 ],
 "metadata": {
  "kernelspec": {
   "display_name": "Python 3 (ipykernel)",
   "language": "python",
   "name": "python3"
  },
  "language_info": {
   "codemirror_mode": {
    "name": "ipython",
    "version": 3
   },
   "file_extension": ".py",
   "mimetype": "text/x-python",
   "name": "python",
   "nbconvert_exporter": "python",
   "pygments_lexer": "ipython3",
   "version": "3.9.7"
  }
 },
 "nbformat": 4,
 "nbformat_minor": 5
}
